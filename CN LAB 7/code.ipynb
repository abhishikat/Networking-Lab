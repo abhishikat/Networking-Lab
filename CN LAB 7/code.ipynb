{
  "nbformat": 4,
  "nbformat_minor": 0,
  "metadata": {
    "colab": {
      "name": "code.ipynb",
      "provenance": []
    },
    "kernelspec": {
      "name": "python3",
      "display_name": "Python 3"
    }
  },
  "cells": [
    {
      "cell_type": "markdown",
      "metadata": {
        "id": "lv7peAf_BeKT"
      },
      "source": [
        ""
      ]
    },
    {
      "cell_type": "code",
      "metadata": {
        "id": "SOlWiQmmA_K3"
      },
      "source": [
        "\n",
        "class Graph:\n",
        "    def __init__(self,n):\n",
        "        self.matrix=[]\n",
        "        self.n = n\n",
        "\n",
        "    def addEdge(self,u,v,w):\n",
        "        self.matrix.append((u,v,w))\n",
        "\n",
        "    def printGraph(self,dist,src):\n",
        "        print(\"Vector table of {}\".format(chr(ord('A')+src)))\n",
        "        for i in range(self.n):\n",
        "            print(\"{0}\\t{1}\".format(chr(ord('A')+i),dist[i]))\n",
        "\n",
        "    def pathCal(self,src):\n",
        "        dist = [99]*self.n\n",
        "        dist[src] = 0\n",
        "\n",
        "        for _ in range(self.n - 1):\n",
        "            for u,v,w in self.matrix:\n",
        "                if dist[u]!=99 and dist[u] + w < dist[v]:\n",
        "                    dist[v] = dist[u] + w\n",
        "\n",
        "        self.printGraph(dist,src)\n",
        "\n"
      ],
      "execution_count": 2,
      "outputs": []
    },
    {
      "cell_type": "code",
      "metadata": {
        "colab": {
          "base_uri": "https://localhost:8080/"
        },
        "id": "K831ODdGBVpn",
        "outputId": "f2147215-8b2f-4aa5-ffd0-10238cfe4f6a"
      },
      "source": [
        "matrix = []\n",
        "print(\"Enter no of nodes\")\n",
        "n = int(input())\n",
        "\n",
        "print(\"Enter adjacency matrix\")\n",
        "\n",
        "for i in range(n):\n",
        "    g = list(map(int,input().split(\" \")))\n",
        "    matrix.append(g)\n",
        "    \n",
        "x = Graph(n)\n",
        "\n",
        "for i in range(n):\n",
        "    for j in range(n):\n",
        "        if matrix[i][j] == 1:\n",
        "            x.addEdge(i,j,1)\n",
        "\n",
        "for _ in range(n):\n",
        "    x.pathCal(_)"
      ],
      "execution_count": 4,
      "outputs": [
        {
          "output_type": "stream",
          "text": [
            "Enter no of nodes\n",
            "5\n",
            "Enter adjacency matrix\n",
            "0 1 1 99 99\n",
            "1 0 99 1 1\n",
            "1 99 0 1 99\n",
            "99 1 1 0 1\n",
            "99 1 99 1 0\n",
            "Vector table of A\n",
            "A\t0\n",
            "B\t1\n",
            "C\t1\n",
            "D\t2\n",
            "E\t2\n",
            "Vector table of B\n",
            "A\t1\n",
            "B\t0\n",
            "C\t2\n",
            "D\t1\n",
            "E\t1\n",
            "Vector table of C\n",
            "A\t1\n",
            "B\t2\n",
            "C\t0\n",
            "D\t1\n",
            "E\t2\n",
            "Vector table of D\n",
            "A\t2\n",
            "B\t1\n",
            "C\t1\n",
            "D\t0\n",
            "E\t1\n",
            "Vector table of E\n",
            "A\t2\n",
            "B\t1\n",
            "C\t2\n",
            "D\t1\n",
            "E\t0\n"
          ],
          "name": "stdout"
        }
      ]
    },
    {
      "cell_type": "code",
      "metadata": {
        "id": "2FoudWQ3BWRn"
      },
      "source": [
        ""
      ],
      "execution_count": null,
      "outputs": []
    },
    {
      "cell_type": "code",
      "metadata": {
        "id": "N8RtV0B1BE7t"
      },
      "source": [
        "2"
      ],
      "execution_count": null,
      "outputs": []
    }
  ]
}